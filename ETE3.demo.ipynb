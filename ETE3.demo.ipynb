{
 "cells": [
  {
   "cell_type": "markdown",
   "metadata": {},
   "source": [
    "# ETE3 demo for Soltis Lab March 2017\n",
    "\n",
    "Let's look at the __[ETE Toolkit](http://etetoolkit.org/)__ for working iwth phylogenetic trees in Python. You can __[download ETE from here](http://etetoolkit.org/download/)__. For this demo, we'll start by mostly working through the __[ETE tutorial](http://etetoolkit.org/docs/latest/tutorial/index.html)__. <br>\n",
    "\n",
    "## Thinking about trees generally\n",
    "As an intro to trees, the tutorial has this to say:<br>\n",
    "<div class=\"alert alert-block alert-info\">\"In bioinformatics, trees are the result of many analyses, such as phylogenetics or clustering. Although each case entails specific considerations, many properties remains constant among them. In this respect, ETE is a python toolkit that assists in the automated manipulation, analysis and visualization of any type of hierarchical trees. It provides general methods to handle and visualize tree topologies, as well as specific modules to deal with phylogenetic and clustering trees.\"\n",
    "</div>\n",
    "\n",
    "## Let's go...\n",
    "Import ete3 and play with some trees:"
   ]
  },
  {
   "cell_type": "code",
   "execution_count": 1,
   "metadata": {
    "collapsed": false
   },
   "outputs": [
    {
     "name": "stdout",
     "output_type": "stream",
     "text": [
      "\n",
      "   /-A\n",
      "--|\n",
      "  |   /-B\n",
      "   \\-|\n",
      "     |   /-E\n",
      "      \\-|\n",
      "         \\-D\n"
     ]
    }
   ],
   "source": [
    "import random\n",
    "from ete3 import Tree\n",
    "\n",
    "# Loads a tree structure from a newick string. The returned variable ’t’ is the root node for the tree.\n",
    "t = Tree(\"(A:0.5,(B:1,(E:1,D:1):0.5):0.5);\" )\n",
    "print(t)"
   ]
  },
  {
   "cell_type": "markdown",
   "metadata": {},
   "source": [
    "### get_common_ancestor\n",
    "We'll come back to fancy graphical trees later, but for now, we have a decent representation of a tree and can start doing things with it.\n",
    "\n",
    "We can find the sub-tree that is the common ancestor of two tips. For example, E and B. This is done a __[bit later](http://etetoolkit.org/docs/latest/tutorial/tutorial_trees.html#find-the-first-common-ancestor)__ in the tutorial.\n",
    "\n",
    "Remember that sub-trees are basically the same as trees, so we could get the leaves on that sub-tree with <code>get_leaves()</code>:"
   ]
  },
  {
   "cell_type": "code",
   "execution_count": 2,
   "metadata": {
    "collapsed": false
   },
   "outputs": [
    {
     "name": "stdout",
     "output_type": "stream",
     "text": [
      "\n",
      "   /-B\n",
      "--|\n",
      "  |   /-E\n",
      "   \\-|\n",
      "      \\-D\n",
      "[Tree node 'B' (0x11305a55), Tree node 'E' (-0x7fffffffeec4ce3f), Tree node 'D' (0x113af516)]\n"
     ]
    }
   ],
   "source": [
    "ancestor=t.get_common_ancestor(\"E\", \"B\")\n",
    "print(ancestor)\n",
    "decendents=ancestor.get_leaves()\n",
    "print (decendents)"
   ]
  },
  {
   "cell_type": "markdown",
   "metadata": {},
   "source": [
    "### Searching\n",
    "We can also search in trees, or test if a taxon is in a tree:"
   ]
  },
  {
   "cell_type": "code",
   "execution_count": 3,
   "metadata": {
    "collapsed": false
   },
   "outputs": [
    {
     "name": "stdout",
     "output_type": "stream",
     "text": [
      "[Tree node 'B' (0x11305a55)]\n",
      "A is in the tree\n",
      "X is not in the tree\n"
     ]
    }
   ],
   "source": [
    "print(t.get_leaves_by_name(\"B\"))\n",
    "for taxon in [\"A\",\"X\"]:\n",
    "    if t.get_leaves_by_name(taxon):\n",
    "        print(\"%s is in the tree\" %(taxon))\n",
    "    else:\n",
    "        print(\"%s is not in the tree\" %(taxon))"
   ]
  },
  {
   "cell_type": "markdown",
   "metadata": {},
   "source": [
    "We can also search by name:"
   ]
  },
  {
   "cell_type": "code",
   "execution_count": 4,
   "metadata": {
    "collapsed": false
   },
   "outputs": [
    {
     "name": "stdout",
     "output_type": "stream",
     "text": [
      "[Tree node 'A' (0x113b31c5)]\n"
     ]
    }
   ],
   "source": [
    "my_node = t.search_nodes(name = \"A\")\n",
    "print (my_node)"
   ]
  },
  {
   "cell_type": "markdown",
   "metadata": {},
   "source": [
    "### Custom searching functions\n",
    "For more complex searches, you will need to make your own search function. Here's the one from __[this part of the tutorial](http://etetoolkit.org/docs/latest/tutorial/tutorial_trees.html#search-all-nodes-matching-a-given-criteria)__, modified a bit to print the nodes found (and re-naming the tree to t2 to not get rid of my tree)."
   ]
  },
  {
   "cell_type": "code",
   "execution_count": 5,
   "metadata": {
    "collapsed": false
   },
   "outputs": [
    {
     "name": "stdout",
     "output_type": "stream",
     "text": [
      "\n",
      "      /-aaaaaaaaad\n",
      "   /-|\n",
      "  |  |   /-aaaaaaaaae\n",
      "  |   \\-|\n",
      "--|      \\-aaaaaaaaaf\n",
      "  |\n",
      "  |   /-aaaaaaaaag\n",
      "   \\-|\n",
      "     |   /-aaaaaaaaah\n",
      "      \\-|\n",
      "         \\-aaaaaaaaai\n",
      "\n",
      "   /-aaaaaaaaao\n",
      "--|\n",
      "  |   /-aaaaaaaaap\n",
      "   \\-|\n",
      "     |   /-aaaaaaaaaq\n",
      "      \\-|\n",
      "        |   /-aaaaaaaaar\n",
      "         \\-|\n",
      "           |   /-aaaaaaaaas\n",
      "            \\-|\n",
      "               \\-aaaaaaaaat\n"
     ]
    }
   ],
   "source": [
    "def search_by_size(node, size):\n",
    "    \"Finds nodes with a given number of leaves\"\n",
    "    matches = []\n",
    "    for n in node.traverse():\n",
    "       if len(n) == size:\n",
    "          matches.append(n)\n",
    "    return matches\n",
    "\n",
    "t2 = Tree()\n",
    "t2.populate(40)\n",
    "# returns nodes containing 6 leaves\n",
    "subtrees= search_by_size(t2, size=6)\n",
    "for node in subtrees:\n",
    "    print (node)"
   ]
  },
  {
   "cell_type": "markdown",
   "metadata": {},
   "source": [
    "Let's try a search function to find branches under a set value:"
   ]
  },
  {
   "cell_type": "code",
   "execution_count": 6,
   "metadata": {
    "collapsed": false
   },
   "outputs": [
    {
     "name": "stdout",
     "output_type": "stream",
     "text": [
      "\n",
      "   /-A\n",
      "--|\n",
      "  |   /-B\n",
      "   \\-|\n",
      "     |   /-E\n",
      "      \\-|\n",
      "         \\-D\n",
      "\n",
      "--A\n",
      "\n",
      "   /-B\n",
      "--|\n",
      "  |   /-E\n",
      "   \\-|\n",
      "      \\-D\n",
      "\n",
      "   /-E\n",
      "--|\n",
      "   \\-D\n"
     ]
    }
   ],
   "source": [
    "def find_short_branches(node, length):\n",
    "    \"Finds nodes with branches under set length\"\n",
    "    matches=[]\n",
    "    for n in node.traverse():\n",
    "        if n.dist <= length:\n",
    "            matches.append(n)\n",
    "    return matches\n",
    "subtrees= find_short_branches(t, 0.5)\n",
    "for node in subtrees:\n",
    "    print (node)"
   ]
  },
  {
   "cell_type": "markdown",
   "metadata": {},
   "source": [
    "### Shortcuts\n",
    "<div class=\"alert alert-block alert-info\">\"Finally, ETE implements a built-in method to find the first node matching a given name, which is one of the most common tasks needed for tree analysis. This can be done through the operator & (AND). Thus, TreeNode&”A” will always return the first node whose name is “A” and that is under the tree “MyTree”. The syntaxis may seem confusing, but it can be very useful in some situations.\"</div>"
   ]
  },
  {
   "cell_type": "code",
   "execution_count": 7,
   "metadata": {
    "collapsed": false
   },
   "outputs": [
    {
     "name": "stdout",
     "output_type": "stream",
     "text": [
      "\n",
      "      /-H\n",
      "   /-|\n",
      "  |   \\-I\n",
      "  |\n",
      "--|--A\n",
      "  |\n",
      "  |   /-B\n",
      "   \\-|\n",
      "     |   /-C\n",
      "      \\-|\n",
      "        |   /-J\n",
      "         \\-|\n",
      "           |   /-F\n",
      "            \\-|\n",
      "               \\-D\n",
      "There are 4 nodes between D and the root\n",
      "It is True that C's parent is under B's ancestor\n",
      "It is False that C's parent is under J's ancestor\n"
     ]
    }
   ],
   "source": [
    "t = Tree(\"((H:0.3,I:0.1):0.5, A:1, (B:0.4,(C:1,(J:1, (F:1, D:1):0.5):0.5):0.5):0.5);\")\n",
    "# Get the node D in a very simple way\n",
    "D = t&\"D\"\n",
    "# Get the path from B to the root\n",
    "node = D\n",
    "path = []\n",
    "while node.up:\n",
    "  path.append(node)\n",
    "  node = node.up\n",
    "print (t)\n",
    "# I substract D node from the total number of visited nodes\n",
    "print (\"There are\", len(path)-1, \"nodes between D and the root\")\n",
    "# Using parentheses you can use by-operand search syntax as a node\n",
    "# instance itself\n",
    "Csparent= (t&\"C\").up #MAG: Changed name of variable for consistency\n",
    "Bsparent= (t&\"B\").up\n",
    "Jsparent= (t&\"J\").up\n",
    "# I check if nodes belong to certain partitions\n",
    "print (\"It is\", Csparent in Bsparent, \"that C's parent is under B's ancestor\")\n",
    "print (\"It is\", Csparent in Jsparent, \"that C's parent is under J's ancestor\")\n"
   ]
  },
  {
   "cell_type": "markdown",
   "metadata": {
    "collapsed": true
   },
   "source": [
    "## Checking monophyly\n"
   ]
  },
  {
   "cell_type": "code",
   "execution_count": 8,
   "metadata": {
    "collapsed": false
   },
   "outputs": [
    {
     "name": "stdout",
     "output_type": "stream",
     "text": [
      "\n",
      "                  /-a\n",
      "               /-|\n",
      "            /-|   \\-e\n",
      "           |  |\n",
      "         /-|   \\-i\n",
      "        |  |\n",
      "      /-|   \\-o\n",
      "     |  |\n",
      "   /-|   \\-h\n",
      "  |  |\n",
      "  |   \\-u\n",
      "--|\n",
      "  |      /-f\n",
      "  |   /-|\n",
      "   \\-|   \\-g\n",
      "     |\n",
      "      \\-j\n"
     ]
    }
   ],
   "source": [
    "t =  Tree(\"((((((a, e), i), o),h), u), ((f, g), j));\")\n",
    "print (t)\n"
   ]
  },
  {
   "cell_type": "code",
   "execution_count": 9,
   "metadata": {
    "collapsed": false
   },
   "outputs": [
    {
     "name": "stdout",
     "output_type": "stream",
     "text": [
      "(False, 'polyphyletic', {Tree node 'h' (0x113b50b7)})\n"
     ]
    }
   ],
   "source": [
    "# We can check how, indeed, all vowels are not monophyletic in the\n",
    "# previous tree, but polyphyletic (a foreign label breaks its monophyly)\n",
    "print (t.check_monophyly(values=[\"a\", \"e\", \"i\", \"o\", \"u\"], target_attr=\"name\"))\n"
   ]
  },
  {
   "cell_type": "code",
   "execution_count": 10,
   "metadata": {
    "collapsed": false
   },
   "outputs": [
    {
     "name": "stdout",
     "output_type": "stream",
     "text": [
      "(True, 'monophyletic', set())\n"
     ]
    }
   ],
   "source": [
    "# however, the following set of vowels are monophyletic\n",
    "print (t.check_monophyly(values=[\"a\", \"e\", \"i\", \"o\"], target_attr=\"name\"))\n"
   ]
  },
  {
   "cell_type": "code",
   "execution_count": 11,
   "metadata": {
    "collapsed": false
   },
   "outputs": [
    {
     "name": "stdout",
     "output_type": "stream",
     "text": [
      "(False, 'paraphyletic', {Tree node 'a' (0x113b50a2), Tree node 'e' (0x113b5094)})\n"
     ]
    }
   ],
   "source": [
    "# A special case of polyphyly, called paraphyly, is also used to\n",
    "# define certain type of grouping. See this wikipedia article for\n",
    "# disambiguation: http://en.wikipedia.org/wiki/Paraphyly\n",
    "print (t.check_monophyly(values=[\"i\", \"o\"], target_attr=\"name\"))"
   ]
  },
  {
   "cell_type": "code",
   "execution_count": 12,
   "metadata": {
    "collapsed": false
   },
   "outputs": [
    {
     "name": "stdout",
     "output_type": "stream",
     "text": [
      "\n",
      "                  /-4, green\n",
      "               /-|\n",
      "            /-|   \\-e, green\n",
      "           |  |\n",
      "         /-|   \\-i, yellow\n",
      "        |  |\n",
      "      /-|   \\-o, black\n",
      "     |  |\n",
      "   /-|   \\-h, none\n",
      "  |  |\n",
      "  |   \\-u, purple\n",
      "--|\n",
      "  |      /-3, yellow\n",
      "  |   /-|\n",
      "  |  |   \\-4, green\n",
      "   \\-|\n",
      "     |   /-i, yellow\n",
      "      \\-|\n",
      "         \\-june, yellow\n"
     ]
    }
   ],
   "source": [
    "t =  Tree(\"((((((4, e), i), o),h), u), ((3, 4), (i, june)));\")\n",
    "# we annotate the tree using external data\n",
    "colors = {\"a\":\"red\", \"e\":\"green\", \"i\":\"yellow\",\n",
    "          \"o\":\"black\", \"u\":\"purple\", \"4\":\"green\",\n",
    "          \"3\":\"yellow\", \"1\":\"white\", \"5\":\"red\",\n",
    "          \"june\":\"yellow\"}\n",
    "for leaf in t:\n",
    "    leaf.add_features(color=colors.get(leaf.name, \"none\"))\n",
    "print (t.get_ascii(attributes=[\"name\", \"color\"], show_internal=False))\n",
    "\n"
   ]
  },
  {
   "cell_type": "code",
   "execution_count": 13,
   "metadata": {
    "collapsed": false
   },
   "outputs": [
    {
     "name": "stdout",
     "output_type": "stream",
     "text": [
      "Green-yellow clusters:\n",
      "\n",
      "      /-green, 4\n",
      "   /-|\n",
      "--|   \\-green, e\n",
      "  |\n",
      "   \\-yellow, i\n",
      "\n",
      "      /-yellow, 3\n",
      "   /-|\n",
      "  |   \\-green, 4\n",
      "--|\n",
      "  |   /-yellow, i\n",
      "   \\-|\n",
      "      \\-yellow, june\n"
     ]
    }
   ],
   "source": [
    "print (\"Green-yellow clusters:\")\n",
    "# And obtain clusters exclusively green and yellow\n",
    "for node in t.get_monophyletic(values=[\"green\", \"yellow\"], target_attr=\"color\"):\n",
    "   print (node.get_ascii(attributes=[\"color\", \"name\"], show_internal=False))\n"
   ]
  },
  {
   "cell_type": "markdown",
   "metadata": {},
   "source": [
    "## Node Annotation\n",
    "<div class=\"alert alert-block alert-info\">\"Every node contains three basic attributes: name (TreeNode.name), branch length (TreeNode.dist) and branch support (TreeNode.support). These three values are encoded in the newick format. However, any extra data could be linked to trees. This is called tree annotation.\n",
    "\n",
    "The TreeNode.add_feature() and TreeNode.add_features() methods allow to add extra attributes (features) to any node. The first allows to add one one feature at a time, while the second can be used to add many features with the same call.\n",
    "\n",
    "Once extra features are added, you can access their values at any time during the analysis of a tree. To do so, you only need to access to the TreeNode.feature_name attributes.\n",
    "\n",
    "Similarly, TreeNode.del_feature() can be used to delete an attribute.\"</div>\n",
    "\n"
   ]
  },
  {
   "cell_type": "code",
   "execution_count": 14,
   "metadata": {
    "collapsed": false
   },
   "outputs": [
    {
     "name": "stdout",
     "output_type": "stream",
     "text": [
      "This tree has 8 vowel nodes\n",
      "Which are ['I', 'A']\n"
     ]
    }
   ],
   "source": [
    "# Creates a tree\n",
    "t = Tree( '((H:0.3,I:0.1):0.5, A:1, (B:0.4,(C:0.5,(J:1.3, (F:1.2, D:0.1):0.5):0.5):0.5):0.5);' )\n",
    "\n",
    "# Let's locate some nodes using the get common ancestor method\n",
    "ancestor=t.get_common_ancestor(\"J\", \"F\", \"C\")\n",
    "# the search_nodes method (I take only the first match )\n",
    "A = t.search_nodes(name=\"A\")[0]\n",
    "# and using the shorcut to finding nodes by name\n",
    "C= t&\"C\"\n",
    "H= t&\"H\"\n",
    "I= t&\"I\"\n",
    "\n",
    "# Let's now add some custom features to our nodes. add_features can be\n",
    "# used to add many features at the same time.\n",
    "C.add_features(vowel=False, confidence=1.0)\n",
    "A.add_features(vowel=True, confidence=0.5)\n",
    "ancestor.add_features(nodetype=\"internal\")\n",
    "\n",
    "# Or, using the oneliner notation\n",
    "(t&\"H\").add_features(vowel=False, confidence=0.2)\n",
    "\n",
    "# But we can automatize this. (note that i will overwrite the previous\n",
    "# values)\n",
    "for leaf in t.traverse():\n",
    "   if leaf.name in \"AEIOU\":\n",
    "      leaf.add_features(vowel=True, confidence=random.random())\n",
    "   else:\n",
    "      leaf.add_features(vowel=False, confidence=random.random())\n",
    "\n",
    "# Now we use these information to analyze the tree.\n",
    "print (\"This tree has\", len(t.search_nodes(vowel=True)), \"vowel nodes\")\n",
    "print (\"Which are\", [leaf.name for leaf in t.iter_leaves() if leaf.vowel==True]\n",
    ")"
   ]
  },
  {
   "cell_type": "code",
   "execution_count": 16,
   "metadata": {
    "collapsed": false
   },
   "outputs": [
    {
     "name": "stdout",
     "output_type": "stream",
     "text": [
      "These are nodes under ancestor with long branches ['J', 'F']\n",
      "custom label:Test\n",
      "custom label value:45\n",
      "Ancestor has now the [ Test ] attribute with value [ 45 ]\n"
     ]
    }
   ],
   "source": [
    "# But features may refer to any kind of data, not only simple\n",
    "# values. For example, we can calculate some values and store them\n",
    "# within nodes.\n",
    "#\n",
    "# Let's detect leaf nodes under \"ancestor\" with distance higher thatn\n",
    "# 1. Note that I'm traversing a subtree which starts from \"ancestor\"\n",
    "matches = [leaf for leaf in ancestor.traverse() if leaf.dist>1.0]\n",
    "\n",
    "# And save this pre-computed information into the ancestor node\n",
    "ancestor.add_feature(\"long_branch_nodes\", matches)\n",
    "\n",
    "# Prints the precomputed nodes\n",
    "print (\"These are nodes under ancestor with long branches\", \\\n",
    "   [n.name for n in ancestor.long_branch_nodes])\n",
    "\n",
    "# We can also use the add_feature() method to dynamically add new features.\n",
    "label = input(\"custom label:\")\n",
    "value = input(\"custom label value:\")\n",
    "ancestor.add_feature(label, value)\n",
    "print (\"Ancestor has now the [\", label, \"] attribute with value [\", value, \"]\")"
   ]
  },
  {
   "cell_type": "markdown",
   "metadata": {
    "collapsed": true
   },
   "source": [
    "## Comparing Trees\n",
    "\n"
   ]
  },
  {
   "cell_type": "code",
   "execution_count": 21,
   "metadata": {
    "collapsed": false
   },
   "outputs": [
    {
     "name": "stdout",
     "output_type": "stream",
     "text": [
      "\n",
      "         /-a\n",
      "      /-|\n",
      "   /-|   \\-b\n",
      "  |  |\n",
      "  |   \\-c\n",
      "--|\n",
      "  |      /-e\n",
      "  |   /-|\n",
      "   \\-|   \\-f\n",
      "     |\n",
      "      \\-g \n",
      "         /-a\n",
      "      /-|\n",
      "   /-|   \\-c\n",
      "  |  |\n",
      "  |   \\-b\n",
      "--|\n",
      "  |      /-e\n",
      "  |   /-|\n",
      "   \\-|   \\-f\n",
      "     |\n",
      "      \\-g\n",
      "RF distance is 2 over a total of 8\n",
      "Partitions in tree2 that were not found in tree1: {('a', 'b')}\n",
      "Partitions in tree1 that were not found in tree2: {('a', 'c')}\n"
     ]
    }
   ],
   "source": [
    "t1 = Tree('(((a,b),c), ((e, f), g));')\n",
    "t2 = Tree('(((a,c),b), ((e, f), g));')\n",
    "\n",
    "#Note I changed this from the ETE Tutorial because my version of ETE3 is returning 7 values. \n",
    "#I think these are correct based on the docs, but hard to say for sure....\n",
    "rf, rf_max, common_attrs, edges_t1, edges_t2, discarded_edges_t1, discarded_edges_t2 = t1.robinson_foulds(t2)\n",
    "print (t1, t2)\n",
    "print (\"RF distance is %s over a total of %s\" %(rf, rf_max))\n",
    "print (\"Partitions in tree2 that were not found in tree1:\", edges_t1 - edges_t2)\n",
    "print (\"Partitions in tree1 that were not found in tree2:\", edges_t2 - edges_t1)\n"
   ]
  },
  {
   "cell_type": "code",
   "execution_count": null,
   "metadata": {
    "collapsed": false
   },
   "outputs": [],
   "source": []
  },
  {
   "cell_type": "code",
   "execution_count": null,
   "metadata": {
    "collapsed": true
   },
   "outputs": [],
   "source": []
  }
 ],
 "metadata": {
  "kernelspec": {
   "display_name": "Python 3",
   "language": "python",
   "name": "python3"
  },
  "language_info": {
   "codemirror_mode": {
    "name": "ipython",
    "version": 3
   },
   "file_extension": ".py",
   "mimetype": "text/x-python",
   "name": "python",
   "nbconvert_exporter": "python",
   "pygments_lexer": "ipython3",
   "version": "3.6.3"
  }
 },
 "nbformat": 4,
 "nbformat_minor": 2
}
