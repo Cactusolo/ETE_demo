{
 "cells": [
  {
   "cell_type": "markdown",
   "metadata": {},
   "source": [
    "# ETE3 demo March 2018\n",
    "\n",
    "Let's look at the __[ETE Toolkit](http://etetoolkit.org/)__ for working with phylogenetic trees in Python. You can __[download ETE from here](http://etetoolkit.org/download/)__. For this demo, we'll start by mostly working through the __[ETE tutorial](http://etetoolkit.org/docs/latest/tutorial/index.html)__. <br>\n",
    "\n",
    "## Thinking about trees generally\n",
    "As an intro to trees, the tutorial has this to say:<br>\n",
    "<div class=\"alert alert-block alert-info\">\"In bioinformatics, trees are the result of many analyses, such as phylogenetics or clustering. Although each case entails specific considerations, many properties remains constant among them. In this respect, ETE is a python toolkit that assists in the automated manipulation, analysis and visualization of any type of hierarchical trees. It provides general methods to handle and visualize tree topologies, as well as specific modules to deal with phylogenetic and clustering trees.\"\n",
    "</div>\n",
    "\n",
    "## Let's go...\n",
    "Import ete3 and play with some trees:"
   ]
  },
  {
   "cell_type": "code",
   "execution_count": 16,
   "metadata": {
    "collapsed": false
   },
   "outputs": [
    {
     "name": "stdout",
     "output_type": "stream",
     "text": [
      "\n",
      "   /-A\n",
      "--|\n",
      "  |   /-B\n",
      "   \\-|\n",
      "     |   /-E\n",
      "      \\-|\n",
      "         \\-D\n"
     ]
    }
   ],
   "source": [
    "import random\n",
    "from ete3 import Tree\n",
    "\n",
    "# Loads a tree structure from a newick string. The returned variable ’t’ is the root node for the tree.\n",
    "t = Tree(\"(A:0.5,(B:1,(E:1,D:1):0.5):0.5);\" )\n",
    "print(t)"
   ]
  },
  {
   "cell_type": "markdown",
   "metadata": {},
   "source": [
    "### get_common_ancestor\n",
    "We'll come back to fancy graphical trees later, but for now, we have a decent representation of a tree and can start doing things with it.\n",
    "\n",
    "We can find the sub-tree that is the common ancestor of two tips. For example, E and B. This is done a __[bit further down](http://etetoolkit.org/docs/latest/tutorial/tutorial_trees.html#find-the-first-common-ancestor)__ in the tutorial.\n",
    "\n",
    "Remember that sub-trees are basically the same as trees, so we could get the leaves on that sub-tree with <code>get_leaves()</code>:"
   ]
  },
  {
   "cell_type": "code",
   "execution_count": 17,
   "metadata": {
    "collapsed": false
   },
   "outputs": [
    {
     "name": "stdout",
     "output_type": "stream",
     "text": [
      "\n",
      "   /-B\n",
      "--|\n",
      "  |   /-E\n",
      "   \\-|\n",
      "      \\-D\n",
      "[Tree node 'B' (-0x7fffffffef05affc), Tree node 'E' (0x10fa500f), Tree node 'D' (-0x7fffffffef05afd9)]\n"
     ]
    }
   ],
   "source": [
    "ancestor=t.get_common_ancestor(\"E\", \"B\")\n",
    "print(ancestor)\n",
    "decendents=ancestor.get_leaves()\n",
    "print (decendents)"
   ]
  },
  {
   "cell_type": "markdown",
   "metadata": {},
   "source": [
    "Note that `.get_leaves()` returns nodes, not taxon names. You could get the names if that's what you want."
   ]
  },
  {
   "cell_type": "code",
   "execution_count": 29,
   "metadata": {
    "collapsed": false
   },
   "outputs": [
    {
     "name": "stdout",
     "output_type": "stream",
     "text": [
      "B\n",
      "E\n",
      "D\n"
     ]
    }
   ],
   "source": [
    "for tip in decendents:\n",
    "    print (tip.name)"
   ]
  },
  {
   "cell_type": "markdown",
   "metadata": {},
   "source": [
    "### Searching\n",
    "We can also search in trees, or test if a taxon is in a tree:"
   ]
  },
  {
   "cell_type": "code",
   "execution_count": 30,
   "metadata": {
    "collapsed": false
   },
   "outputs": [
    {
     "name": "stdout",
     "output_type": "stream",
     "text": [
      "[Tree node 'B' (-0x7fffffffef05affc)]\n",
      "A is not in the tree\n",
      "B is in the tree\n",
      "X is not in the tree\n"
     ]
    }
   ],
   "source": [
    "print(t.get_leaves_by_name(\"B\"))\n",
    "for taxon in [\"A\",\"B\",\"X\"]:\n",
    "    if ancestor.get_leaves_by_name(taxon):\n",
    "        print(\"%s is in the tree\" %(taxon))\n",
    "    else:\n",
    "        print(\"%s is not in the tree\" %(taxon))"
   ]
  },
  {
   "cell_type": "markdown",
   "metadata": {},
   "source": [
    "We can also search by name:"
   ]
  },
  {
   "cell_type": "code",
   "execution_count": 31,
   "metadata": {
    "collapsed": false
   },
   "outputs": [
    {
     "name": "stdout",
     "output_type": "stream",
     "text": [
      "[Tree node 'A' (-0x7fffffffef05aff5)]\n"
     ]
    }
   ],
   "source": [
    "my_node = t.search_nodes(name = \"A\")\n",
    "print (my_node)"
   ]
  },
  {
   "cell_type": "code",
   "execution_count": 32,
   "metadata": {
    "collapsed": false
   },
   "outputs": [
    {
     "name": "stdout",
     "output_type": "stream",
     "text": [
      "A\n",
      "B\n",
      "E\n",
      "D\n"
     ]
    }
   ],
   "source": [
    "for leaf in t:\n",
    "  print (leaf.name)"
   ]
  },
  {
   "cell_type": "markdown",
   "metadata": {},
   "source": [
    "## Traversing trees\n",
    "\n",
    "Often, we need to move through a tree. There are a few ways to do this and the ability to control the order of traversal."
   ]
  },
  {
   "cell_type": "code",
   "execution_count": 37,
   "metadata": {
    "collapsed": false
   },
   "outputs": [
    {
     "name": "stdout",
     "output_type": "stream",
     "text": [
      "\n",
      "   /-A\n",
      "  |\n",
      "  |         /-X\n",
      "--|      /-|\n",
      "  |   /-|   \\-Y\n",
      "  |  |  |\n",
      "   \\-|   \\-B\n",
      "     |\n",
      "     |   /-E\n",
      "      \\-|\n",
      "         \\-D\n",
      "Traversing tree in Level-order\n",
      "\n",
      "A\n",
      "\n",
      "\n",
      "\n",
      "\n",
      "B\n",
      "E\n",
      "D\n",
      "X\n",
      "Y\n",
      "\n",
      "\n",
      "Traversing tree in Post-order\n",
      "A\n",
      "X\n",
      "Y\n",
      "\n",
      "B\n",
      "\n",
      "E\n",
      "D\n",
      "\n",
      "\n"
     ]
    }
   ],
   "source": [
    "# Load and view a tree\n",
    "t = Tree(\"(A:0.5,(((X,Y),B):1,(E:1,D:1):0.5):0.5);\" )\n",
    "print(t)\n",
    "\n",
    "print(\"Traversing tree in Level-order\")\n",
    "for node in t.traverse(\"levelorder\"):\n",
    "  # Do some analysis on node\n",
    "  print (node.name)\n",
    "\n",
    "# If we want to iterate over a tree excluding the root node, we can\n",
    "# use the iter_descendant method\n",
    "\n",
    "print(\"\\n\\nTraversing tree in Post-order\")\n",
    "for node in t.iter_descendants(\"postorder\"):\n",
    "  # Do some analysis on node\n",
    "  print (node.name)\n"
   ]
  },
  {
   "cell_type": "markdown",
   "metadata": {},
   "source": [
    "### Custom searching functions\n",
    "For more complex searches (looks like anything other then \"=\"), you will need to make your own search function. Here's the one from __[this part of the tutorial](http://etetoolkit.org/docs/latest/tutorial/tutorial_trees.html#search-all-nodes-matching-a-given-criteria)__, modified a bit to print the nodes found."
   ]
  },
  {
   "cell_type": "code",
   "execution_count": 45,
   "metadata": {
    "collapsed": false
   },
   "outputs": [
    {
     "name": "stdout",
     "output_type": "stream",
     "text": [
      "\n",
      "      /-H\n",
      "   /-|\n",
      "  |   \\-I\n",
      "  |\n",
      "--|--A\n",
      "  |\n",
      "  |   /-B\n",
      "   \\-|\n",
      "     |   /-C\n",
      "      \\-|\n",
      "         \\-D\n",
      "3 nodes have distance=0.5\n",
      "[Tree node 'D' (-0x7fffffffef05a4e7)]\n"
     ]
    }
   ],
   "source": [
    "t = Tree( '((H:1,I:1):0.5, A:1, (B:1,(C:1,D:1):0.5):0.5);' )\n",
    "print (t)\n",
    "\n",
    "# Get D\n",
    "D = t.search_nodes(name=\"D\")[0]\n",
    "\n",
    "# Get all nodes with distance=0.5\n",
    "nodes = t.search_nodes(dist=0.5)\n",
    "print (len(nodes), \"nodes have distance=0.5\")\n",
    "\n",
    "# We can limit the search to leaves and node names (faster method).\n",
    "D = t.get_leaves_by_name(name=\"D\")\n",
    "print (D)"
   ]
  },
  {
   "cell_type": "code",
   "execution_count": 48,
   "metadata": {
    "collapsed": false
   },
   "outputs": [
    {
     "name": "stdout",
     "output_type": "stream",
     "text": [
      "\n",
      "      /-aaaaaaaaar\n",
      "   /-|\n",
      "  |  |   /-aaaaaaaaas\n",
      "  |   \\-|\n",
      "--|      \\-aaaaaaaaat\n",
      "  |\n",
      "  |   /-aaaaaaaaau\n",
      "   \\-|\n",
      "     |   /-aaaaaaaaav\n",
      "      \\-|\n",
      "         \\-aaaaaaaaaw\n",
      "\n",
      "   /-aaaaaaaabf\n",
      "--|\n",
      "  |   /-aaaaaaaabg\n",
      "   \\-|\n",
      "     |   /-aaaaaaaabh\n",
      "      \\-|\n",
      "        |   /-aaaaaaaabi\n",
      "         \\-|\n",
      "           |   /-aaaaaaaabj\n",
      "            \\-|\n",
      "               \\-aaaaaaaabk\n"
     ]
    }
   ],
   "source": [
    "def search_by_size(node, size):\n",
    "    \"Finds nodes with a given number of leaves\"\n",
    "    matches = []\n",
    "    for n in node.traverse():\n",
    "       if len(n) == size:\n",
    "          matches.append(n)\n",
    "    return matches\n",
    "\n",
    "t2 = Tree()\n",
    "t2.populate(40)\n",
    "# returns nodes containing 6 leaves\n",
    "subtrees= search_by_size(t2, size=6)\n",
    "for node in subtrees:\n",
    "    print (node)"
   ]
  },
  {
   "cell_type": "markdown",
   "metadata": {},
   "source": [
    "Let's try a search function to find branches under a set value:"
   ]
  },
  {
   "cell_type": "code",
   "execution_count": 51,
   "metadata": {
    "collapsed": false
   },
   "outputs": [
    {
     "name": "stdout",
     "output_type": "stream",
     "text": [
      "\n",
      "      /-H\n",
      "   /-|\n",
      "  |   \\-I\n",
      "  |\n",
      "--|--A\n",
      "  |\n",
      "  |   /-B\n",
      "   \\-|\n",
      "     |   /-C\n",
      "      \\-|\n",
      "         \\-D\n",
      "\n",
      "   /-H\n",
      "--|\n",
      "   \\-I\n",
      "\n",
      "   /-B\n",
      "--|\n",
      "  |   /-C\n",
      "   \\-|\n",
      "      \\-D\n",
      "\n",
      "   /-C\n",
      "--|\n",
      "   \\-D\n"
     ]
    }
   ],
   "source": [
    "def find_short_branches(node, length):\n",
    "    \"Finds nodes with branches under set length\"\n",
    "    matches=[]\n",
    "    for n in node.traverse():\n",
    "        if n.dist <= length:\n",
    "            matches.append(n)\n",
    "    return matches\n",
    "subtrees= find_short_branches(t, 0.5)\n",
    "for node in subtrees:\n",
    "    print (node)"
   ]
  },
  {
   "cell_type": "markdown",
   "metadata": {},
   "source": [
    "### An example looking for support values\n",
    "Here's an example using the tree from __[here](https://www.megasoftware.net/mega4/WebHelp/glossary/rh_newick_format.htm)__ to find nodes with support values over a designated value."
   ]
  },
  {
   "cell_type": "code",
   "execution_count": 50,
   "metadata": {
    "collapsed": false
   },
   "outputs": [
    {
     "name": "stdout",
     "output_type": "stream",
     "text": [
      "\n",
      "   /-sea_lion\n",
      "--|\n",
      "   \\-seal\n",
      "\n",
      "      /-monkey\n",
      "   /-|\n",
      "--|   \\-cat\n",
      "  |\n",
      "   \\-weasel\n",
      "\n",
      "   /-monkey\n",
      "--|\n",
      "   \\-cat\n"
     ]
    }
   ],
   "source": [
    "t3=Tree('((raccoon:19.19959,bear:6.80041)50:0.84600,((sea_lion:11.99700, seal:12.00300)100:7.52973,((monkey:100.85930,cat:47.14069)80:20.59201, weasel:18.87953)75:2.09460)50:3.87382,dog:25.46154);')\n",
    "def find_highsupport_branches(tree, BS):\n",
    "    \"Finds nodes with branches supported with BS>value\"\n",
    "    matches=[]\n",
    "    for n in tree.traverse():\n",
    "        if n.support >= BS:\n",
    "            matches.append(n)\n",
    "    return matches\n",
    "subtrees= find_highsupport_branches(t3, 75)\n",
    "for node in subtrees:\n",
    "    print (node)\n"
   ]
  },
  {
   "cell_type": "markdown",
   "metadata": {},
   "source": [
    "### Shortcuts\n",
    "<div class=\"alert alert-block alert-info\">\"Finally, ETE implements a built-in method to find the first node matching a given name, which is one of the most common tasks needed for tree analysis. This can be done through the operator & (AND). Thus, TreeNode&”A” will always return the first node whose name is “A” and that is under the tree “MyTree”. The syntaxis may seem confusing, but it can be very useful in some situations.\"</div>"
   ]
  },
  {
   "cell_type": "code",
   "execution_count": 53,
   "metadata": {
    "collapsed": false
   },
   "outputs": [
    {
     "name": "stdout",
     "output_type": "stream",
     "text": [
      "\n",
      "      /-H\n",
      "   /-|\n",
      "  |   \\-I\n",
      "  |\n",
      "--|--A\n",
      "  |\n",
      "  |   /-B\n",
      "   \\-|\n",
      "     |   /-C\n",
      "      \\-|\n",
      "        |   /-J\n",
      "         \\-|\n",
      "           |   /-F\n",
      "            \\-|\n",
      "               \\-D\n",
      "[Tree node 'D' (-0x7fffffffef05630e), Tree node '' (-0x7fffffffef05632a), Tree node '' (-0x7fffffffef056331), Tree node '' (0x10fa9cb0), Tree node '' (0x10fa9cb7)]\n",
      "There are 4 nodes between D and the root\n",
      "It is True that C's parent is under B's ancestor\n",
      "It is False that C's parent is under J's ancestor\n",
      "\n",
      "   /-J\n",
      "--|\n",
      "  |   /-F\n",
      "   \\-|\n",
      "      \\-D\n"
     ]
    }
   ],
   "source": [
    "t = Tree(\"((H:0.3,I:0.1):0.5, A:1, (B:0.4,(C:1,(J:1, (F:1, D:1):0.5):0.5):0.5):0.5);\")\n",
    "# Get the node D in a very simple way\n",
    "D = t&\"D\"\n",
    "B = t&\"B\"\n",
    "# Get the path from D to the root\n",
    "node = D\n",
    "path = []\n",
    "while node.up:\n",
    "  path.append(node)\n",
    "  node = node.up\n",
    "print (t)\n",
    "print(path)\n",
    "# I substract D node from the total number of visited nodes\n",
    "print (\"There are\", len(path)-1, \"nodes between D and the root\")\n",
    "# Using parentheses you can use by-operand search syntax as a node\n",
    "# instance itself\n",
    "Csparent= (t&\"C\").up \n",
    "Bsparent= (t&\"B\").up\n",
    "Jsparent= (t&\"J\").up\n",
    "# I check if nodes belong to certain partitions\n",
    "print (\"It is\", Csparent in Bsparent, \"that C's parent is under B's ancestor\")\n",
    "print (\"It is\", Csparent in Jsparent, \"that C's parent is under J's ancestor\")\n",
    "\n",
    "print (path[2])"
   ]
  },
  {
   "cell_type": "markdown",
   "metadata": {
    "collapsed": true
   },
   "source": [
    "## Checking monophyly\n",
    "It is common to want to test the monophyly of a set of taxa. The `.check_monophyly` method is built for this."
   ]
  },
  {
   "cell_type": "code",
   "execution_count": 54,
   "metadata": {
    "collapsed": false
   },
   "outputs": [
    {
     "name": "stdout",
     "output_type": "stream",
     "text": [
      "\n",
      "                  /-a\n",
      "               /-|\n",
      "            /-|   \\-e\n",
      "           |  |\n",
      "         /-|   \\-i\n",
      "        |  |\n",
      "      /-|   \\-o\n",
      "     |  |\n",
      "   /-|   \\-h\n",
      "  |  |\n",
      "  |   \\-u\n",
      "--|\n",
      "  |      /-f\n",
      "  |   /-|\n",
      "   \\-|   \\-g\n",
      "     |\n",
      "      \\-j\n"
     ]
    }
   ],
   "source": [
    "t =  Tree(\"((((((a, e), i), o),h), u), ((f, g), j));\")\n",
    "print (t)\n"
   ]
  },
  {
   "cell_type": "code",
   "execution_count": 59,
   "metadata": {
    "collapsed": false
   },
   "outputs": [
    {
     "name": "stdout",
     "output_type": "stream",
     "text": [
      "(False, 'polyphyletic', {Tree node 'h' (-0x7fffffffef0569b6)})\n"
     ]
    }
   ],
   "source": [
    "# We can check how, indeed, all vowels are not monophyletic in the\n",
    "# previous tree, but polyphyletic (a foreign label breaks its monophyly)\n",
    "print (t.check_monophyly(values=[\"a\", \"e\", \"i\", \"o\", \"u\"],\n",
    "                         target_attr=\"name\"))\n"
   ]
  },
  {
   "cell_type": "code",
   "execution_count": 60,
   "metadata": {
    "collapsed": false
   },
   "outputs": [
    {
     "name": "stdout",
     "output_type": "stream",
     "text": [
      "(True, 'monophyletic', set())\n"
     ]
    }
   ],
   "source": [
    "# however, the following set of vowels are monophyletic\n",
    "print (t.check_monophyly(values=[\"a\", \"e\", \"i\", \"o\"], \n",
    "                         target_attr=\"name\"))\n"
   ]
  },
  {
   "cell_type": "code",
   "execution_count": 61,
   "metadata": {
    "collapsed": false
   },
   "outputs": [
    {
     "name": "stdout",
     "output_type": "stream",
     "text": [
      "(False, 'paraphyletic', {Tree node 'e' (0x10fa962b), Tree node 'a' (-0x7fffffffef0569d9)})\n"
     ]
    }
   ],
   "source": [
    "# A special case of polyphyly, called paraphyly, is also used to\n",
    "# define certain type of grouping. See this wikipedia article for\n",
    "# disambiguation: http://en.wikipedia.org/wiki/Paraphyly\n",
    "print (t.check_monophyly(values=[\"i\", \"o\"], \n",
    "                         target_attr=\"name\"))"
   ]
  },
  {
   "cell_type": "markdown",
   "metadata": {},
   "source": [
    "Here's another example. This time, adding an attribute to each node called \"color\". By default, trees have branch length and support attributes at nodes, but you can add others--family, traits, etc. These added attributes can then be used to test things like are all leaves with the family attribute of Asteraceae monophyletic? Note that I've changed this example a bit from the tutorial."
   ]
  },
  {
   "cell_type": "code",
   "execution_count": 63,
   "metadata": {
    "collapsed": false
   },
   "outputs": [
    {
     "name": "stdout",
     "output_type": "stream",
     "text": [
      "\n",
      "                  /-5, red\n",
      "               /-|\n",
      "            /-|   \\-e, green\n",
      "           |  |\n",
      "         /-|   \\-j, green\n",
      "        |  |\n",
      "      /-|   \\-o, black\n",
      "     |  |\n",
      "   /-|   \\-h, none\n",
      "  |  |\n",
      "  |   \\-u, purple\n",
      "--|\n",
      "  |      /-3, yellow\n",
      "  |   /-|\n",
      "  |  |   \\-4, yellow\n",
      "   \\-|\n",
      "     |   /-i, yellow\n",
      "      \\-|\n",
      "         \\-june, yellow\n",
      "\n",
      "\n",
      "Is yellow monophyletic?\n",
      "(True, 'monophyletic', set())\n",
      "\n",
      "\n",
      "Is green monophyletic?\n",
      "(False, 'polyphyletic', {Tree node '5' (0x10fa9608)})\n"
     ]
    }
   ],
   "source": [
    "t =  Tree(\"((((((5, e), j), o),h), u), ((3, 4), (i, june)));\")\n",
    "# we annotate the tree using external data\n",
    "colors = {\"a\":\"red\", \"e\":\"green\", \"i\":\"yellow\",\n",
    "          \"o\":\"black\", \"u\":\"purple\", \"4\":\"yellow\",\n",
    "          \"3\":\"yellow\", \"1\":\"white\", \"5\":\"red\",\n",
    "          \"june\":\"yellow\", \"j\":\"green\"}\n",
    "for leaf in t:\n",
    "    leaf.add_features(color=colors.get(leaf.name, \"none\"))\n",
    "print (t.get_ascii(attributes=[\"name\", \"color\"], show_internal=False))\n",
    "\n",
    "print (\"\\n\\nIs yellow monophyletic?\")\n",
    "print (t.check_monophyly(values=[\"yellow\"], target_attr=\"color\"))\n",
    "print (\"\\n\\nIs green monophyletic?\")\n",
    "print (t.check_monophyly(values=[\"green\"], target_attr=\"color\"))\n"
   ]
  },
  {
   "cell_type": "code",
   "execution_count": 66,
   "metadata": {
    "collapsed": false
   },
   "outputs": [
    {
     "name": "stdout",
     "output_type": "stream",
     "text": [
      "Green-red clusters:\n",
      "\n",
      "      /-red, 5\n",
      "   /-|\n",
      "--|   \\-green, e\n",
      "  |\n",
      "   \\-green, j\n"
     ]
    }
   ],
   "source": [
    "print (\"Green-red clusters:\")\n",
    "# And obtain clusters exclusively green and red\n",
    "for node in t.get_monophyletic(values=[\"green\", \"red\"], target_attr=\"color\"):\n",
    "   print (node.get_ascii(attributes=[\"color\", \"name\"], show_internal=False))\n"
   ]
  },
  {
   "cell_type": "markdown",
   "metadata": {},
   "source": [
    "## Node Annotation\n",
    "<div class=\"alert alert-block alert-info\">\"Every node contains three basic attributes: name (TreeNode.name), branch length (TreeNode.dist) and branch support (TreeNode.support). These three values are encoded in the newick format. However, any extra data could be linked to trees. This is called tree annotation.\n",
    "\n",
    "The TreeNode.add_feature() and TreeNode.add_features() methods allow to add extra attributes (features) to any node. The first allows to add one one feature at a time, while the second can be used to add many features with the same call.\n",
    "\n",
    "Once extra features are added, you can access their values at any time during the analysis of a tree. To do so, you only need to access to the TreeNode.feature_name attributes.\n",
    "\n",
    "Similarly, TreeNode.del_feature() can be used to delete an attribute.\"</div>\n",
    "\n"
   ]
  },
  {
   "cell_type": "code",
   "execution_count": 67,
   "metadata": {
    "collapsed": false
   },
   "outputs": [
    {
     "name": "stdout",
     "output_type": "stream",
     "text": [
      "This tree has 8 vowel nodes\n",
      "Which are ['I', 'A']\n"
     ]
    }
   ],
   "source": [
    "# Creates a tree\n",
    "t = Tree( '((H:0.3,I:0.1):0.5, A:1, (B:0.4,(C:0.5,(J:1.3, (F:1.2, D:0.1):0.5):0.5):0.5):0.5);' )\n",
    "\n",
    "# Let's locate some nodes using the get common ancestor method\n",
    "ancestor=t.get_common_ancestor(\"J\", \"F\", \"C\")\n",
    "# the search_nodes method (I take only the first match )\n",
    "A = t.search_nodes(name=\"A\")[0]\n",
    "# and using the shorcut to finding nodes by name\n",
    "C= t&\"C\"\n",
    "H= t&\"H\"\n",
    "I= t&\"I\"\n",
    "\n",
    "# Let's now add some custom features to our nodes. add_features can be\n",
    "# used to add many features at the same time.\n",
    "C.add_features(vowel=False, confidence=1.0)\n",
    "A.add_features(vowel=True, confidence=0.5)\n",
    "ancestor.add_features(nodetype=\"internal\")\n",
    "\n",
    "# Or, using the oneliner notation\n",
    "(t&\"H\").add_features(vowel=False, confidence=0.2)\n",
    "\n",
    "# But we can automatize this. (note that i will overwrite the previous\n",
    "# values)\n",
    "for leaf in t.traverse():\n",
    "   if leaf.name in \"AEIOU\":\n",
    "      leaf.add_features(vowel=True, confidence=random.random())\n",
    "   else:\n",
    "      leaf.add_features(vowel=False, confidence=random.random())\n",
    "\n",
    "# Now we use these information to analyze the tree.\n",
    "print (\"This tree has\", len(t.search_nodes(vowel=True)), \"vowel nodes\")\n",
    "print (\"Which are\", [leaf.name for leaf in t.iter_leaves() if leaf.vowel==True]\n",
    ")"
   ]
  },
  {
   "cell_type": "code",
   "execution_count": 63,
   "metadata": {
    "collapsed": false
   },
   "outputs": [
    {
     "name": "stdout",
     "output_type": "stream",
     "text": [
      "These are nodes under ancestor with long branches ['J', 'F']\n",
      "custom label:Test\n",
      "custom label value:45\n",
      "Ancestor has now the [ Test ] attribute with value [ 45 ]\n"
     ]
    }
   ],
   "source": [
    "# But features may refer to any kind of data, not only simple\n",
    "# values. For example, we can calculate some values and store them\n",
    "# within nodes.\n",
    "#\n",
    "# Let's detect leaf nodes under \"ancestor\" with distance higher thatn\n",
    "# 1. Note that I'm traversing a subtree which starts from \"ancestor\"\n",
    "matches = [leaf for leaf in ancestor.traverse() if leaf.dist>1.0]\n",
    "\n",
    "# And save this pre-computed information into the ancestor node\n",
    "ancestor.add_feature(\"long_branch_nodes\", matches)\n",
    "\n",
    "# Prints the precomputed nodes\n",
    "print (\"These are nodes under ancestor with long branches\", \\\n",
    "   [n.name for n in ancestor.long_branch_nodes])\n",
    "\n",
    "# We can also use the add_feature() method to dynamically add new features.\n",
    "label = input(\"custom label:\")\n",
    "value = input(\"custom label value:\")\n",
    "ancestor.add_feature(label, value)\n",
    "print (\"Ancestor has now the [\", label, \"] attribute with value [\", value, \"]\")"
   ]
  },
  {
   "cell_type": "markdown",
   "metadata": {
    "collapsed": true
   },
   "source": [
    "## Comparing Trees\n",
    "\n"
   ]
  },
  {
   "cell_type": "code",
   "execution_count": 69,
   "metadata": {
    "collapsed": false
   },
   "outputs": [
    {
     "name": "stdout",
     "output_type": "stream",
     "text": [
      "\n",
      "         /-a\n",
      "      /-|\n",
      "   /-|   \\-b\n",
      "  |  |\n",
      "  |   \\-c\n",
      "--|\n",
      "  |      /-e\n",
      "  |   /-|\n",
      "   \\-|   \\-f\n",
      "     |\n",
      "      \\-g \n",
      "         /-a\n",
      "      /-|\n",
      "   /-|   \\-c\n",
      "  |  |\n",
      "  |   \\-b\n",
      "--|\n",
      "  |      /-e\n",
      "  |   /-|\n",
      "   \\-|   \\-f\n",
      "     |\n",
      "      \\-g\n",
      "RF distance is 2 over a total of 8\n",
      "Partitions in tree2 that were not found in tree1: {('a', 'b')}\n",
      "Partitions in tree1 that were not found in tree2: {('a', 'c')}\n",
      "[2, 8, {'a', 'b', 'c', 'g', 'f', 'e'}, {('a',), ('b',), ('e',), ('f',), ('a', 'b', 'c', 'e', 'f', 'g'), ('a', 'b', 'c'), ('c',), ('e', 'f', 'g'), ('g',), ('e', 'f'), ('a', 'b')}, {('a',), ('b',), ('e',), ('f',), ('a', 'b', 'c', 'e', 'f', 'g'), ('a', 'b', 'c'), ('a', 'c'), ('c',), ('e', 'f', 'g'), ('g',), ('e', 'f')}, set(), set()]\n"
     ]
    }
   ],
   "source": [
    "t1 = Tree('(((a,b),c), ((e, f), g));')\n",
    "t2 = Tree('(((a,c),b), ((e, f), g));')\n",
    "\n",
    "#Note I changed this from the ETE Tutorial because my version of ETE3 is returning 7 values. \n",
    "#I think these are correct based on the docs, but hard to say for sure....\n",
    "rf, rf_max, common_attrs, edges_t1, edges_t2, discarded_edges_t1, discarded_edges_t2 = t1.robinson_foulds(t2)\n",
    "print (t1, t2)\n",
    "print (\"RF distance is %s over a total of %s\" %(rf, rf_max))\n",
    "print (\"Partitions in tree2 that were not found in tree1:\", edges_t1 - edges_t2)\n",
    "print (\"Partitions in tree1 that were not found in tree2:\", edges_t2 - edges_t1)\n",
    "print (t1.robinson_foulds(t2))"
   ]
  }
 ],
 "metadata": {
  "kernelspec": {
   "display_name": "Python 3",
   "language": "python",
   "name": "python3"
  },
  "language_info": {
   "codemirror_mode": {
    "name": "ipython",
    "version": 3
   },
   "file_extension": ".py",
   "mimetype": "text/x-python",
   "name": "python",
   "nbconvert_exporter": "python",
   "pygments_lexer": "ipython3",
   "version": "3.6.3"
  }
 },
 "nbformat": 4,
 "nbformat_minor": 2
}
