{
 "cells": [
  {
   "cell_type": "markdown",
   "metadata": {},
   "source": [
    "# ETE3 demo for Soltis Lab March 2017\n",
    "\n",
    "Let's look at the __[ETE Toolkit](http://etetoolkit.org/)__ for working iwth phylogenetic trees in Python. You can __[download ETE from here](http://etetoolkit.org/download/)__. For this demo, we'll start by mostly owrking through the __[ETE tutorial](http://etetoolkit.org/docs/latest/tutorial/index.html)__. <br>\n",
    "\n",
    "## Thinking about trees generally\n",
    "As an intro to trees, the tutorial has this to say:<br>\n",
    "<div class=\"alert alert-block alert-info\">\"In bioinformatics, trees are the result of many analyses, such as phylogenetics or clustering. Although each case entails specific considerations, many properties remains constant among them. In this respect, ETE is a python toolkit that assists in the automated manipulation, analysis and visualization of any type of hierarchical trees. It provides general methods to handle and visualize tree topologies, as well as specific modules to deal with phylogenetic and clustering trees.\"\n",
    "</div>\n",
    "\n",
    "## Let's go...\n",
    "Import ete3 and play with some trees:"
   ]
  },
  {
   "cell_type": "code",
   "execution_count": 102,
   "metadata": {
    "collapsed": false
   },
   "outputs": [
    {
     "name": "stdout",
     "output_type": "stream",
     "text": [
      "\n",
      "   /-A\n",
      "--|\n",
      "  |   /-B\n",
      "   \\-|\n",
      "     |   /-E\n",
      "      \\-|\n",
      "         \\-D\n"
     ]
    }
   ],
   "source": [
    "from ete3 import Tree\n",
    "\n",
    "# Loads a tree structure from a newick string. The returned variable ’t’ is the root node for the tree.\n",
    "t = Tree(\"(A:0.5,(B:1,(E:1,D:1):0.5):0.5);\" )\n",
    "print(t)"
   ]
  },
  {
   "cell_type": "markdown",
   "metadata": {},
   "source": [
    "### get_common_ancestor\n",
    "We'll come back to fancy graphical trees later, but for now, we have a decent representation of a tree and can start doing things with it.\n",
    "\n",
    "We can find the sub-tree that is the common ancestor of two tips. For example, E and B. This is done a __[bit later](http://etetoolkit.org/docs/latest/tutorial/tutorial_trees.html#find-the-first-common-ancestor)__ in the tutorial.\n",
    "\n",
    "Remember that sub-trees are basically the same as trees, so we could get the leaves on that sub-tree with <code>get_leaves()</code>:"
   ]
  },
  {
   "cell_type": "code",
   "execution_count": 66,
   "metadata": {
    "collapsed": false
   },
   "outputs": [
    {
     "name": "stdout",
     "output_type": "stream",
     "text": [
      "\n",
      "   /-B\n",
      "--|\n",
      "  |   /-E\n",
      "   \\-|\n",
      "      \\-D\n",
      "[Tree node 'B' (0x1131d132), Tree node 'E' (0x1131e2a9), Tree node 'D' (-0x7fffffffeece1dcb)]\n"
     ]
    }
   ],
   "source": [
    "ancestor=t.get_common_ancestor(\"E\", \"B\")\n",
    "print(ancestor)\n",
    "decendents=ancestor.get_leaves()\n",
    "print (decendents)"
   ]
  },
  {
   "cell_type": "markdown",
   "metadata": {},
   "source": [
    "### Searching\n",
    "We can also search in trees, or test if a taxon is in a tree:"
   ]
  },
  {
   "cell_type": "code",
   "execution_count": 67,
   "metadata": {
    "collapsed": false
   },
   "outputs": [
    {
     "name": "stdout",
     "output_type": "stream",
     "text": [
      "[Tree node 'B' (0x1131d132)]\n",
      "A is in the tree\n",
      "X is not in the tree\n"
     ]
    }
   ],
   "source": [
    "print(t.get_leaves_by_name(\"B\"))\n",
    "for taxon in [\"A\",\"X\"]:\n",
    "    if t.get_leaves_by_name(taxon):\n",
    "        print(\"%s is in the tree\" %(taxon))\n",
    "    else:\n",
    "        print(\"%s is not in the tree\" %(taxon))"
   ]
  },
  {
   "cell_type": "markdown",
   "metadata": {},
   "source": [
    "We can also search by name:"
   ]
  },
  {
   "cell_type": "code",
   "execution_count": 85,
   "metadata": {
    "collapsed": false
   },
   "outputs": [
    {
     "name": "stdout",
     "output_type": "stream",
     "text": [
      "[Tree node 'A' (0x1131d10f)]\n"
     ]
    }
   ],
   "source": [
    "my_node = t.search_nodes(name = \"A\")\n",
    "print (my_node)"
   ]
  },
  {
   "cell_type": "markdown",
   "metadata": {},
   "source": [
    "### Custom searching functions\n",
    "For more complex searches, you will need to make your own search function. Here's the one from __[this part of the tutorial](http://etetoolkit.org/docs/latest/tutorial/tutorial_trees.html#search-all-nodes-matching-a-given-criteria)__, modified a bit to print the nodes found (and re-naming the tree to t2 to not get rid of my tree)."
   ]
  },
  {
   "cell_type": "code",
   "execution_count": 105,
   "metadata": {
    "collapsed": false
   },
   "outputs": [
    {
     "name": "stdout",
     "output_type": "stream",
     "text": [
      "\n",
      "      /-aaaaaaaaab\n",
      "   /-|\n",
      "  |  |   /-aaaaaaaaac\n",
      "  |   \\-|\n",
      "--|      \\-aaaaaaaaad\n",
      "  |\n",
      "  |   /-aaaaaaaaae\n",
      "   \\-|\n",
      "     |   /-aaaaaaaaaf\n",
      "      \\-|\n",
      "         \\-aaaaaaaaag\n",
      "\n",
      "      /-aaaaaaaabh\n",
      "   /-|\n",
      "  |   \\-aaaaaaaabi\n",
      "  |\n",
      "--|      /-aaaaaaaabj\n",
      "  |   /-|\n",
      "  |  |   \\-aaaaaaaabk\n",
      "   \\-|\n",
      "     |   /-aaaaaaaabl\n",
      "      \\-|\n",
      "         \\-aaaaaaaabm\n"
     ]
    }
   ],
   "source": [
    "def search_by_size(node, size):\n",
    "    \"Finds nodes with a given number of leaves\"\n",
    "    matches = []\n",
    "    for n in node.traverse():\n",
    "       if len(n) == size:\n",
    "          matches.append(n)\n",
    "    return matches\n",
    "\n",
    "t2 = Tree()\n",
    "t2.populate(40)\n",
    "# returns nodes containing 6 leaves\n",
    "subtrees= search_by_size(t2, size=6)\n",
    "for node in subtrees:\n",
    "    print (node)"
   ]
  },
  {
   "cell_type": "markdown",
   "metadata": {},
   "source": [
    "Let's try a search function to find branches under a set value:"
   ]
  },
  {
   "cell_type": "code",
   "execution_count": 106,
   "metadata": {
    "collapsed": false
   },
   "outputs": [
    {
     "name": "stdout",
     "output_type": "stream",
     "text": [
      "\n",
      "   /-A\n",
      "--|\n",
      "  |   /-B\n",
      "   \\-|\n",
      "     |   /-E\n",
      "      \\-|\n",
      "         \\-D\n",
      "\n",
      "--A\n",
      "\n",
      "   /-B\n",
      "--|\n",
      "  |   /-E\n",
      "   \\-|\n",
      "      \\-D\n",
      "\n",
      "   /-E\n",
      "--|\n",
      "   \\-D\n"
     ]
    }
   ],
   "source": [
    "def find_short_branches(node, length):\n",
    "    \"Finds nodes with branches under set length\"\n",
    "    matches=[]\n",
    "    for n in node.traverse():\n",
    "        if n.dist <= length:\n",
    "            matches.append(n)\n",
    "    return matches\n",
    "subtrees= find_short_branches(t, 0.5)\n",
    "for node in subtrees:\n",
    "    print (node)"
   ]
  },
  {
   "cell_type": "markdown",
   "metadata": {},
   "source": [
    "### Shortcuts\n",
    "<div class=\"alert alert-block alert-info\">\"Finally, ETE implements a built-in method to find the first node matching a given name, which is one of the most common tasks needed for tree analysis. This can be done through the operator & (AND). Thus, TreeNode&”A” will always return the first node whose name is “A” and that is under the tree “MyTree”. The syntaxis may seem confusing, but it can be very useful in some situations.\"</div>"
   ]
  },
  {
   "cell_type": "code",
   "execution_count": 112,
   "metadata": {
    "collapsed": false
   },
   "outputs": [
    {
     "name": "stdout",
     "output_type": "stream",
     "text": [
      "\n",
      "      /-H\n",
      "   /-|\n",
      "  |   \\-I\n",
      "  |\n",
      "--|--A\n",
      "  |\n",
      "  |   /-B\n",
      "   \\-|\n",
      "     |   /-C\n",
      "      \\-|\n",
      "        |   /-J\n",
      "         \\-|\n",
      "           |   /-F\n",
      "            \\-|\n",
      "               \\-D\n",
      "There are 4 nodes between D and the root\n",
      "It is True that C's parent is under B's ancestor\n",
      "It is False that C's parent is under J's ancestor\n"
     ]
    }
   ],
   "source": [
    "t = Tree(\"((H:0.3,I:0.1):0.5, A:1, (B:0.4,(C:1,(J:1, (F:1, D:1):0.5):0.5):0.5):0.5);\")\n",
    "# Get the node D in a very simple way\n",
    "D = t&\"D\"\n",
    "# Get the path from B to the root\n",
    "node = D\n",
    "path = []\n",
    "while node.up:\n",
    "  path.append(node)\n",
    "  node = node.up\n",
    "print (t)\n",
    "# I substract D node from the total number of visited nodes\n",
    "print (\"There are\", len(path)-1, \"nodes between D and the root\")\n",
    "# Using parentheses you can use by-operand search syntax as a node\n",
    "# instance itself\n",
    "Csparent= (t&\"C\").up #MAG: Changed name of variable for consistency\n",
    "Bsparent= (t&\"B\").up\n",
    "Jsparent= (t&\"J\").up\n",
    "# I check if nodes belong to certain partitions\n",
    "print (\"It is\", Csparent in Bsparent, \"that C's parent is under B's ancestor\")\n",
    "print (\"It is\", Csparent in Jsparent, \"that C's parent is under J's ancestor\")\n"
   ]
  },
  {
   "cell_type": "code",
   "execution_count": null,
   "metadata": {
    "collapsed": true
   },
   "outputs": [],
   "source": []
  }
 ],
 "metadata": {
  "kernelspec": {
   "display_name": "Python 3",
   "language": "python",
   "name": "python3"
  },
  "language_info": {
   "codemirror_mode": {
    "name": "ipython",
    "version": 3
   },
   "file_extension": ".py",
   "mimetype": "text/x-python",
   "name": "python",
   "nbconvert_exporter": "python",
   "pygments_lexer": "ipython3",
   "version": "3.6.3"
  }
 },
 "nbformat": 4,
 "nbformat_minor": 2
}
